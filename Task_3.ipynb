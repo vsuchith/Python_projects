{
 "cells": [
  {
   "cell_type": "code",
   "execution_count": null,
   "id": "33e98cad",
   "metadata": {},
   "outputs": [],
   "source": [
    "#LEET CODE FORMAT\n",
    "class Solution:\n",
    "    def maxProduct(self, nums: List[int]) -> int:\n",
    "        nums.sort(reverse=True)\n",
    "        return (nums[0]-1)*(nums[1]-1)"
   ]
  },
  {
   "cell_type": "code",
   "execution_count": null,
   "id": "3ba1314e",
   "metadata": {},
   "outputs": [],
   "source": [
    "class Solution:\n",
    "    def maxProduct(self, nums):\n",
    "        nums.sort(reverse=True)\n",
    "        return (nums[0]-1)*(nums[1]-1)\n",
    "\n",
    "a=Solution()\n",
    "a.maxProduct([1,5,6,4])"
   ]
  },
  {
   "cell_type": "code",
   "execution_count": null,
   "id": "364ac73f",
   "metadata": {},
   "outputs": [],
   "source": [
    "#LEET CODE\n",
    "class Solution:\n",
    "    \n",
    "    def numTeams(self, rating: List[int]) -> int:\n",
    "        count=0\n",
    "        for i in range(len(rating)):\n",
    "            for j in range(i+1,len(rating)):\n",
    "                for k in range(j+1,len(rating)):\n",
    "                    if rating[i]>rating[j]>rating[k] or rating[i]<rating[j]<rating[k]:\n",
    "                        count=count+1\n",
    "        return count"
   ]
  },
  {
   "cell_type": "code",
   "execution_count": null,
   "id": "95fb03c7",
   "metadata": {},
   "outputs": [],
   "source": [
    "class Solution:\n",
    "    \n",
    "    def numTeams(self, rating):\n",
    "        count=0\n",
    "        for i in range(len(rating)):\n",
    "            for j in range(i+1,len(rating)):\n",
    "                for k in range(j+1,len(rating)):\n",
    "                    if rating[i]>rating[j]>rating[k] or rating[i]<rating[j]<rating[k]:\n",
    "                        count=count+1\n",
    "        return count\n",
    "\n",
    "a=Solution()\n",
    "a.numTeams([1,2,3,4])"
   ]
  },
  {
   "cell_type": "code",
   "execution_count": null,
   "id": "9109b15c",
   "metadata": {},
   "outputs": [],
   "source": [
    "#LEET CODE\n",
    "class Solution:\n",
    "    def busyStudent(self, startTime: List[int], endTime: List[int], queryTime: int) -> int:\n",
    "        count=0\n",
    "        x=list(zip(startTime,endTime))\n",
    "        for i in range(len(x)):\n",
    "            if queryTime<=x[i][1] and queryTime>=x[i][0]:\n",
    "                count=count+1\n",
    "        return count"
   ]
  },
  {
   "cell_type": "code",
   "execution_count": null,
   "id": "ecc00679",
   "metadata": {},
   "outputs": [],
   "source": [
    "class Solution:\n",
    "    def busyStudent(self, startTime, endTime,queryTime):\n",
    "        count=0\n",
    "        x=list(zip(startTime,endTime))\n",
    "        for i in range(len(x)):\n",
    "            if queryTime<=x[i][1] and queryTime>=x[i][0]:\n",
    "                count=count+1\n",
    "        return count\n",
    "\n",
    "a=Solution()\n",
    "a.busyStudent([1,2,3],[3,2,7],4)"
   ]
  },
  {
   "cell_type": "code",
   "execution_count": null,
   "id": "546f7be9",
   "metadata": {},
   "outputs": [],
   "source": [
    "#LEET CODE\n",
    "class Solution:\n",
    "    def numberOfSteps(self, num: int) -> int:\n",
    "        count=0\n",
    "        while num!=0:\n",
    "            if num%2==0:\n",
    "                num=num/2\n",
    "                count=count+1\n",
    "            else:\n",
    "                num=num-1\n",
    "                count=count+1\n",
    "        return count"
   ]
  },
  {
   "cell_type": "code",
   "execution_count": null,
   "id": "9cc98963",
   "metadata": {},
   "outputs": [],
   "source": [
    "class Solution:\n",
    "    def numberOfSteps(self, num):\n",
    "        count=0\n",
    "        while num!=0:\n",
    "            if num%2==0:\n",
    "                num=num/2\n",
    "                count=count+1\n",
    "            else:\n",
    "                num=num-1\n",
    "                count=count+1\n",
    "        return count\n",
    "a=Solution()\n",
    "a.numberOfSteps(14)"
   ]
  },
  {
   "cell_type": "code",
   "execution_count": null,
   "id": "8b046f75",
   "metadata": {},
   "outputs": [],
   "source": [
    "#LEET CODE\n",
    "class Solution:\n",
    "    def countBits(self, n: int) -> List[int]:\n",
    "        list1=[]\n",
    "        for i in range(n+1):\n",
    "            x=bin(i)\n",
    "            x=list(map(str,x[x.index('b')+1:]))\n",
    "            list1.append(x.count('1'))\n",
    "        return list1"
   ]
  },
  {
   "cell_type": "code",
   "execution_count": null,
   "id": "9dcc9530",
   "metadata": {},
   "outputs": [],
   "source": [
    "class Solution:\n",
    "    def countBits(self, n):\n",
    "        list1=[]\n",
    "        for i in range(n+1):\n",
    "            x=bin(i)\n",
    "            x=list(map(str,x[x.index('b')+1:]))\n",
    "            list1.append(x.count('1'))\n",
    "        return list1\n",
    "a=Solution()\n",
    "a.countBits(5)"
   ]
  }
 ],
 "metadata": {
  "kernelspec": {
   "display_name": "Python 3 (ipykernel)",
   "language": "python",
   "name": "python3"
  },
  "language_info": {
   "codemirror_mode": {
    "name": "ipython",
    "version": 3
   },
   "file_extension": ".py",
   "mimetype": "text/x-python",
   "name": "python",
   "nbconvert_exporter": "python",
   "pygments_lexer": "ipython3",
   "version": "3.9.13"
  }
 },
 "nbformat": 4,
 "nbformat_minor": 5
}
