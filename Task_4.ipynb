{
 "cells": [
  {
   "cell_type": "code",
   "execution_count": null,
   "id": "c094d5ec",
   "metadata": {},
   "outputs": [],
   "source": [
    "#LEET CODE\n",
    "class Solution:\n",
    "    def singleNumber(self, nums: List[int]) -> int:\n",
    "        from collections import Counter\n",
    "\n",
    "        x=[items for items,count in Counter(nums).items() if count==1]\n",
    "        return x[0]"
   ]
  },
  {
   "cell_type": "code",
   "execution_count": null,
   "id": "b296a30c",
   "metadata": {},
   "outputs": [],
   "source": [
    "class Solution:\n",
    "    def singleNumber(self, nums):\n",
    "        from collections import Counter\n",
    "\n",
    "        x=[items for items,count in Counter(nums).items() if count==1]\n",
    "        return x[0]\n",
    "a=Solution()\n",
    "a.singleNumber([4,4,1,1,2])"
   ]
  },
  {
   "cell_type": "code",
   "execution_count": null,
   "id": "bf0968db",
   "metadata": {},
   "outputs": [],
   "source": [
    "#LEET CODE\n",
    "class Solution:\n",
    "    def sortByBits(self, arr: List[int]) -> List[int]:\n",
    "        fin=[]\n",
    "        from functools import reduce\n",
    "        y=list(map(lambda a:a.count('1'),list(map(lambda a:bin(a),arr))))\n",
    "        distinct=list(set(y))\n",
    "        distinct.sort()\n",
    "        z=list(zip(arr,y))\n",
    "        z.sort(key=lambda a:a[1])\n",
    "        for j in distinct:\n",
    "            res=[z[i][0] for i in range(len(arr)) if z[i][1]==j]\n",
    "            res.sort()\n",
    "            fin.append(res)\n",
    "        z=reduce(lambda a,b:a+b,fin)\n",
    "        return z"
   ]
  },
  {
   "cell_type": "code",
   "execution_count": null,
   "id": "7d7c0897",
   "metadata": {},
   "outputs": [],
   "source": [
    "class Solution:\n",
    "    def sortByBits(self, arr):\n",
    "        fin=[]\n",
    "        from functools import reduce\n",
    "        y=list(map(lambda a:a.count('1'),list(map(lambda a:bin(a),arr))))\n",
    "        distinct=list(set(y))\n",
    "        distinct.sort()\n",
    "        z=list(zip(arr,y))\n",
    "        z.sort(key=lambda a:a[1])\n",
    "        for j in distinct:\n",
    "            res=[z[i][0] for i in range(len(arr)) if z[i][1]==j]\n",
    "            res.sort()\n",
    "            fin.append(res)\n",
    "        z=reduce(lambda a,b:a+b,fin)\n",
    "        return z\n",
    "\n",
    "a=Solution()\n",
    "a.sortByBits([1024,512,256,128,64,32,16,8,4,2,1]) "
   ]
  },
  {
   "cell_type": "code",
   "execution_count": null,
   "id": "09381cce",
   "metadata": {},
   "outputs": [],
   "source": [
    "#LEET CODE\n",
    "class Solution:\n",
    "    def singleNumber(self, nums: List[int]) -> List[int]:\n",
    "        from collections import Counter\n",
    "\n",
    "        x=[items for items,count in Counter(nums).items() if count==1]\n",
    "        return x\n"
   ]
  },
  {
   "cell_type": "code",
   "execution_count": null,
   "id": "580bcf35",
   "metadata": {},
   "outputs": [],
   "source": [
    "class Solution:\n",
    "    def singleNumber(self, nums):\n",
    "        from collections import Counter\n",
    "\n",
    "        x=[items for items,count in Counter(nums).items() if count==1]\n",
    "        return x\n",
    "\n",
    "a=Solution()\n",
    "a.singleNumber([4,4,1,1,2,3])\n"
   ]
  },
  {
   "cell_type": "code",
   "execution_count": null,
   "id": "33087f15",
   "metadata": {},
   "outputs": [],
   "source": [
    "#LEET CODE\n",
    "class Solution:\n",
    "    def subsets(self, nums: List[int]) -> List[List[int]]:\n",
    "        from itertools import combinations\n",
    "        from functools import reduce\n",
    "        out=[]\n",
    "        out1=[]\n",
    "        nums.sort()\n",
    "        for i in range(len(nums)):\n",
    "    \n",
    "            out.append([nums[i]])\n",
    "            for j in range(i,len(nums)):\n",
    "                temp=[]\n",
    "                  \n",
    "                if nums[i]!=nums[j]:\n",
    "                    \n",
    "                    temp.append(nums[i])\n",
    "                    temp.append(nums[j])\n",
    "                    if temp not in out:\n",
    "                        out.append(temp)\n",
    "            if i==len(nums)-1:\n",
    "                out.append([])\n",
    "                if nums not in out:\n",
    "                    out.append(nums)\n",
    "        if len(nums)>=4:\n",
    "            for i in range(len(nums)+1):\n",
    "                if i>=4:\n",
    "                    out1.append(list(combinations(nums,i-1)))\n",
    "            out1=list(reduce(lambda a,b:a+b,out1))\n",
    "            out=out+out1\n",
    "        else:\n",
    "            out=out\n",
    "        return out"
   ]
  },
  {
   "cell_type": "code",
   "execution_count": null,
   "id": "db42fc3e",
   "metadata": {},
   "outputs": [],
   "source": [
    "class Solution:\n",
    "    def subsets(self, nums):\n",
    "        from itertools import combinations\n",
    "        from functools import reduce\n",
    "        out=[]\n",
    "        out1=[]\n",
    "        nums.sort()\n",
    "        for i in range(len(nums)):\n",
    "    \n",
    "            out.append([nums[i]])\n",
    "            for j in range(i,len(nums)):\n",
    "                temp=[]\n",
    "                  \n",
    "                if nums[i]!=nums[j]:\n",
    "                    \n",
    "                    temp.append(nums[i])\n",
    "                    temp.append(nums[j])\n",
    "                    if temp not in out:\n",
    "                        out.append(temp)\n",
    "            if i==len(nums)-1:\n",
    "                out.append([])\n",
    "                if nums not in out:\n",
    "                    out.append(nums)\n",
    "        if len(nums)>=4:\n",
    "            for i in range(len(nums)+1):\n",
    "                if i>=4:\n",
    "                    out1.append(list(combinations(nums,i-1)))\n",
    "            out1=list(reduce(lambda a,b:a+b,out1))\n",
    "            out=out+out1\n",
    "        else:\n",
    "            out=out\n",
    "        return out\n",
    "  \n",
    "a=Solution()\n",
    "a.subsets([9,0,3,2,5])"
   ]
  },
  {
   "cell_type": "code",
   "execution_count": null,
   "id": "e4f73806",
   "metadata": {},
   "outputs": [],
   "source": []
  }
 ],
 "metadata": {
  "kernelspec": {
   "display_name": "Python 3 (ipykernel)",
   "language": "python",
   "name": "python3"
  },
  "language_info": {
   "codemirror_mode": {
    "name": "ipython",
    "version": 3
   },
   "file_extension": ".py",
   "mimetype": "text/x-python",
   "name": "python",
   "nbconvert_exporter": "python",
   "pygments_lexer": "ipython3",
   "version": "3.9.13"
  }
 },
 "nbformat": 4,
 "nbformat_minor": 5
}
