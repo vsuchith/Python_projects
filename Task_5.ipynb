{
 "cells": [
  {
   "cell_type": "code",
   "execution_count": null,
   "id": "294a4cca",
   "metadata": {},
   "outputs": [],
   "source": [
    "#LEET CODE\n",
    "class Solution:\n",
    "    def subsets(self, nums: List[int]) -> List[List[int]]:\n",
    "        from itertools import combinations\n",
    "        from functools import reduce\n",
    "        out=[]\n",
    "        out1=[]\n",
    "        nums.sort()\n",
    "        for i in range(len(nums)):\n",
    "    \n",
    "            out.append([nums[i]])\n",
    "            for j in range(i,len(nums)):\n",
    "                temp=[]\n",
    "                  \n",
    "                if nums[i]!=nums[j]:\n",
    "                    \n",
    "                    temp.append(nums[i])\n",
    "                    temp.append(nums[j])\n",
    "                    if temp not in out:\n",
    "                        out.append(temp)\n",
    "            if i==len(nums)-1:\n",
    "                out.append([])\n",
    "                if nums not in out:\n",
    "                    out.append(nums)\n",
    "        if len(nums)>=4:\n",
    "            for i in range(len(nums)+1):\n",
    "                if i>=4:\n",
    "                    out1.append(list(combinations(nums,i-1)))\n",
    "            out1=list(reduce(lambda a,b:a+b,out1))\n",
    "            out=out+out1\n",
    "        else:\n",
    "            out=out\n",
    "        return out"
   ]
  },
  {
   "cell_type": "code",
   "execution_count": null,
   "id": "5d3e169b",
   "metadata": {},
   "outputs": [],
   "source": [
    "class Solution:\n",
    "    def subsets(self, nums):\n",
    "        from itertools import combinations\n",
    "        from functools import reduce\n",
    "        out=[]\n",
    "        out1=[]\n",
    "        nums.sort()\n",
    "        for i in range(len(nums)):\n",
    "    \n",
    "            out.append([nums[i]])\n",
    "            for j in range(i,len(nums)):\n",
    "                temp=[]\n",
    "                  \n",
    "                if nums[i]!=nums[j]:\n",
    "                    \n",
    "                    temp.append(nums[i])\n",
    "                    temp.append(nums[j])\n",
    "                    if temp not in out:\n",
    "                        out.append(temp)\n",
    "            if i==len(nums)-1:\n",
    "                out.append([])\n",
    "                if nums not in out:\n",
    "                    out.append(nums)\n",
    "        if len(nums)>=4:\n",
    "            for i in range(len(nums)+1):\n",
    "                if i>=4:\n",
    "                    out1.append(list(combinations(nums,i-1)))\n",
    "            out1=list(reduce(lambda a,b:a+b,out1))\n",
    "            out=out+out1\n",
    "        else:\n",
    "            out=out\n",
    "        return out\n",
    "  \n",
    "a=Solution()\n",
    "a.subsets([9,0,3,2,5])"
   ]
  },
  {
   "cell_type": "code",
   "execution_count": null,
   "id": "35f54de2",
   "metadata": {},
   "outputs": [],
   "source": [
    "##LEET CODE\n",
    "class Solution:\n",
    "    def hammingDistance(self, x: int, y: int) -> int:\n",
    "        x=bin(x).replace(\"0b\",\"\")\n",
    "        y=bin(y).replace(\"0b\",\"\")\n",
    "        m=max(len(x),len(y))\n",
    "        if len(x)<len(y):\n",
    "            x=(\"0\"*(m-len(x)))+x\n",
    "        elif len(x)>len(y):\n",
    "            y=(\"0\"*(m-len(y)))+y\n",
    "        \n",
    "        z=list(map(lambda a,d:a^d,list(map(int,list(x))),list(map(int,list(y)))))\n",
    "        return z.count(1)"
   ]
  },
  {
   "cell_type": "code",
   "execution_count": null,
   "id": "7ec307fe",
   "metadata": {},
   "outputs": [],
   "source": [
    "class Solution:\n",
    "    def hammingDistance(self, x: int, y: int) -> int:\n",
    "        x=bin(x).replace(\"0b\",\"\")\n",
    "        y=bin(y).replace(\"0b\",\"\")\n",
    "        m=max(len(x),len(y))\n",
    "        if len(x)<len(y):\n",
    "            x=(\"0\"*(m-len(x)))+x\n",
    "        elif len(x)>len(y):\n",
    "            y=(\"0\"*(m-len(y)))+y\n",
    "        \n",
    "        z=list(map(lambda a,d:a^d,list(map(int,list(x))),list(map(int,list(y)))))\n",
    "        return z.count(1)\n",
    "\n",
    "a=Solution()\n",
    "a.hammingDistance(3,1)"
   ]
  },
  {
   "cell_type": "code",
   "execution_count": null,
   "id": "bd0d82d3",
   "metadata": {},
   "outputs": [],
   "source": [
    "#LEET CODE\n",
    "class Solution:\n",
    "    def singleNumber(self, nums: List[int]) -> int:\n",
    "        from collections import Counter\n",
    "        x=[items for items,count in Counter(nums).items() if count==1]\n",
    "        return x[0]"
   ]
  },
  {
   "cell_type": "code",
   "execution_count": null,
   "id": "2900ef79",
   "metadata": {},
   "outputs": [],
   "source": [
    "class Solution:\n",
    "    def singleNumber(self, nums):\n",
    "        from collections import Counter\n",
    "        x=[items for items,count in Counter(nums).items() if count==1]\n",
    "        return x[0]\n",
    "\n",
    "a=Solution()\n",
    "a.singleNumber([4,4,1,1,2,3,3])"
   ]
  }
 ],
 "metadata": {
  "kernelspec": {
   "display_name": "Python 3 (ipykernel)",
   "language": "python",
   "name": "python3"
  },
  "language_info": {
   "codemirror_mode": {
    "name": "ipython",
    "version": 3
   },
   "file_extension": ".py",
   "mimetype": "text/x-python",
   "name": "python",
   "nbconvert_exporter": "python",
   "pygments_lexer": "ipython3",
   "version": "3.9.13"
  }
 },
 "nbformat": 4,
 "nbformat_minor": 5
}
