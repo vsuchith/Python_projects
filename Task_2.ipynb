{
 "cells": [
  {
   "cell_type": "code",
   "execution_count": null,
   "id": "3ac601d9",
   "metadata": {},
   "outputs": [],
   "source": [
    "if __name__ == '__main__':\n",
    "    x = int(input())\n",
    "    y = int(input())\n",
    "    z = int(input())\n",
    "    n = int(input())\n",
    "    print([[i,j,k] for i in range(0,x+1) for j in range(0,y+1) for k in range(0,z+1) if sum([i,j,k])!=n])"
   ]
  },
  {
   "cell_type": "code",
   "execution_count": null,
   "id": "6eaf4e55",
   "metadata": {},
   "outputs": [],
   "source": [
    "if __name__ == '__main__':\n",
    "    n = int(input())\n",
    "    arr = list(map(int, input().split()))\n",
    "    for i in range(n):\n",
    "      for j in range(i+1,n):\n",
    "        if arr[i]<arr[j]:\n",
    "          arr[j],arr[i]=arr[i],arr[j]\n",
    "    \n",
    "    for i in range(n):\n",
    "      if arr[i]==arr[i+1]:\n",
    "        continue\n",
    "      elif arr[i+1]<arr[i]:\n",
    "        print(arr[i+1])\n",
    "        break"
   ]
  },
  {
   "cell_type": "code",
   "execution_count": null,
   "id": "ee1a0a67",
   "metadata": {},
   "outputs": [],
   "source": [
    "if __name__ == '__main__':\n",
    "    list1=[]\n",
    "    for _ in range(int(input())):\n",
    "        tmp=[]\n",
    "        name = input()\n",
    "        tmp.append(name)\n",
    "        score = float(input())\n",
    "        tmp.append(score)\n",
    "        list1.append(tmp)\n",
    "    \n",
    "    list1.sort(key=lambda z:z[1])\n",
    "    name,score=zip(*list1)\n",
    "    ind=[]\n",
    "    for i in range(len(score)):\n",
    "      if score[i]==score[i+1]:\n",
    "        continue\n",
    "      else:\n",
    "        index=i+1\n",
    "        break\n",
    "    for i in range(index,len(name)):\n",
    "      if i<=len(name)-1:\n",
    "        if i==len(name)-1:\n",
    "          ind.append(name[i])\n",
    "          break\n",
    "        elif score[i]!=score[i+1]:\n",
    "          ind.append(name[i])\n",
    "          break\n",
    "        elif score[i]==score[i+1]:\n",
    "          ind.append(name[i])\n",
    "          ind.append(name[i+1])\n",
    "\n",
    "    ind=list(set(ind))\n",
    "    ind.sort()\n",
    "    for i in range(len(ind)):\n",
    "      print(ind[i])"
   ]
  },
  {
   "cell_type": "code",
   "execution_count": null,
   "id": "fcb498e5",
   "metadata": {},
   "outputs": [],
   "source": [
    "if __name__ == '__main__':\n",
    "    n = int(input())\n",
    "    student_marks = {}\n",
    "    for _ in range(n):\n",
    "        name, *line = input().split()\n",
    "        scores = list(map(float, line))\n",
    "        student_marks[name] = scores\n",
    "    query_name = input()\n",
    "    z=student_marks.get(query_name)\n",
    "    print(format(sum(z)/3,\".2f\"))"
   ]
  },
  {
   "cell_type": "code",
   "execution_count": null,
   "id": "7a353baf",
   "metadata": {},
   "outputs": [],
   "source": [
    "if __name__ == '__main__':\n",
    "    N = int(input())\n",
    "    list1=[]\n",
    "    for _ in range(N):\n",
    "        y=input().split()\n",
    "        if y[0]=='insert':\n",
    "            fun,i,e=y\n",
    "            list1.insert(int(i),int(e))\n",
    "        elif y[0]=='print':\n",
    "            print(list1)\n",
    "        elif y[0]=='remove':\n",
    "            fun,e=y\n",
    "            list1.remove(int(e))\n",
    "        elif y[0]=='append':\n",
    "            fun,e=y\n",
    "            list1.append(int(e))\n",
    "        elif y[0]=='sort':\n",
    "            list1.sort()\n",
    "        elif y[0]=='pop':\n",
    "            list1.pop()\n",
    "        elif y[0]=='reverse':\n",
    "            list1.reverse() "
   ]
  },
  {
   "cell_type": "code",
   "execution_count": null,
   "id": "616f87eb",
   "metadata": {},
   "outputs": [],
   "source": [
    "if __name__ == '__main__':\n",
    "    n=int(input())\n",
    "    t=tuple(map(int,input().split()))\n",
    "    print(hash(t))"
   ]
  },
  {
   "cell_type": "code",
   "execution_count": null,
   "id": "88c85a54",
   "metadata": {},
   "outputs": [],
   "source": [
    "def average(array):\n",
    "    # your code goes here\n",
    "    x=set(array)\n",
    "    av=sum(x)/len(x)\n",
    "    return av\n",
    "\n",
    "if __name__ == '__main__':\n",
    "    n = int(input())\n",
    "    arr = list(map(int, input().split()))\n",
    "    result = average(arr)\n",
    "    print(format(result,\".3f\"))"
   ]
  },
  {
   "cell_type": "code",
   "execution_count": null,
   "id": "ec6a93a7",
   "metadata": {},
   "outputs": [],
   "source": [
    "# Enter your code here. Read input from STDIN. Print output to STDOUT\n",
    "if __name__ == '__main__':\n",
    "    M=int(input())\n",
    "    a=set(map(int,input().split()))\n",
    "    N=int(input())\n",
    "    b=set(map(int,input().split()))\n",
    "    x=list(a.difference(b))+list(b.difference(a))\n",
    "    x.sort()\n",
    "    for i in range(len(x)):\n",
    "        \n",
    "        print(x[i])"
   ]
  },
  {
   "cell_type": "code",
   "execution_count": null,
   "id": "d9bee071",
   "metadata": {},
   "outputs": [],
   "source": [
    "# Enter your code here. Read input from STDIN. Print output to STDOUT\n",
    "N=int(input())\n",
    "list1=[]\n",
    "for _ in range(N):\n",
    "    list1.append(input())\n",
    "print(len(set(list1)))"
   ]
  },
  {
   "cell_type": "code",
   "execution_count": null,
   "id": "13c30434",
   "metadata": {},
   "outputs": [],
   "source": [
    "n = int(input())\n",
    "s = set(map(int, input().split()))\n",
    "N = int(input())\n",
    "for _ in range(N):\n",
    "    y=input().split()\n",
    "    if y[0]=='pop':\n",
    "        s.pop()\n",
    "    elif y[0]=='remove':\n",
    "        fun,e=y\n",
    "        s.remove(int(e))\n",
    "    elif y[0]=='discard':\n",
    "        fun,e=y\n",
    "        s.discard(int(e))\n",
    "print(sum(s))"
   ]
  },
  {
   "cell_type": "code",
   "execution_count": null,
   "id": "205a0a4f",
   "metadata": {},
   "outputs": [],
   "source": [
    "# Enter your code here. Read input from STDIN. Print output to STDOUT\n",
    "n1=int(input())\n",
    "s1=set(map(int,input().split()))\n",
    "n2=int(input())\n",
    "s2=set(map(int,input().split()))\n",
    "x=s1.union(s2)\n",
    "print(len(x))"
   ]
  },
  {
   "cell_type": "code",
   "execution_count": null,
   "id": "1a1e8b5a",
   "metadata": {},
   "outputs": [],
   "source": [
    "# Enter your code here. Read input from STDIN. Print output to STDOUT\n",
    "n1=int(input())\n",
    "s1=set(map(int,input().split()))\n",
    "n2=int(input())\n",
    "s2=set(map(int,input().split()))\n",
    "x=s1.intersection(s2)\n",
    "print(len(x))\n"
   ]
  },
  {
   "cell_type": "code",
   "execution_count": null,
   "id": "e32b29a7",
   "metadata": {},
   "outputs": [],
   "source": [
    "n1=int(input())\n",
    "s1=set(map(int,input().split()))\n",
    "n2=int(input())\n",
    "s2=set(map(int,input().split()))\n",
    "x=s1.symmetric_difference(s2)\n",
    "print(len(x))"
   ]
  },
  {
   "cell_type": "code",
   "execution_count": null,
   "id": "9dc6c0f2",
   "metadata": {},
   "outputs": [],
   "source": [
    "# Enter your code here. Read input from STDIN. Print output to STDOUT\n",
    "n = int(input())\n",
    "s = set(map(int, input().split()))\n",
    "N = int(input())\n",
    "for _ in range(N):\n",
    "    y=input().split()\n",
    "    if y[0]=='intersection_update':\n",
    "        fun,e=y\n",
    "        s.intersection_update(set(map(int, input().split())))\n",
    "    elif y[0]=='update':\n",
    "        fun,e=y\n",
    "        s.update(set(map(int, input().split())))\n",
    "    elif y[0]=='symmetric_difference_update':\n",
    "        fun,e=y\n",
    "        s.symmetric_difference_update(set(map(int, input().split())))\n",
    "    elif y[0]=='difference_update':\n",
    "        fun,e=y\n",
    "        s.difference_update(set(map(int, input().split())))\n",
    "print(sum(s))"
   ]
  },
  {
   "cell_type": "code",
   "execution_count": null,
   "id": "f741266f",
   "metadata": {},
   "outputs": [],
   "source": [
    "# Enter your code here. Read input from STDIN. Print output to STDOUT\n",
    "from collections import Counter\n",
    "K=int(input())\n",
    "list1=list(map(int,input().split()))\n",
    "x=[items for items,count in Counter(list1).items() if count==1]\n",
    "print(x[0])"
   ]
  },
  {
   "cell_type": "code",
   "execution_count": null,
   "id": "fb093a4f",
   "metadata": {},
   "outputs": [],
   "source": [
    "# Enter your code here. Read input from STDIN. Print output to STDOUT\n",
    "T=int(input())\n",
    "res=[]\n",
    "for j in range(T):\n",
    "    n1=int(input())\n",
    "    A=list(map(int,input().split()))\n",
    "    n2=int(input())\n",
    "    B=list(map(int,input().split()))\n",
    "    count=0\n",
    "    for i in range(n2):\n",
    "        if B[i] in A:\n",
    "            count=count+1\n",
    "        else:\n",
    "            continue\n",
    "    if count==len(A):\n",
    "        res.append(True)\n",
    "    else:\n",
    "        res.append(False)\n",
    "for i in range(len(res)):\n",
    "    print(res[i])"
   ]
  },
  {
   "cell_type": "code",
   "execution_count": null,
   "id": "f516ae05",
   "metadata": {},
   "outputs": [],
   "source": [
    "A=set(map(int,input().split()))\n",
    "n=int(input())\n",
    "list1=[]\n",
    "for _ in range(n):\n",
    "    B=set(map(int,input().split()))\n",
    "    if A.issuperset(B):\n",
    "        list1.append(True)\n",
    "    else:\n",
    "        list1.append(False)\n",
    "print(all(list1))"
   ]
  }
 ],
 "metadata": {
  "kernelspec": {
   "display_name": "Python 3 (ipykernel)",
   "language": "python",
   "name": "python3"
  },
  "language_info": {
   "codemirror_mode": {
    "name": "ipython",
    "version": 3
   },
   "file_extension": ".py",
   "mimetype": "text/x-python",
   "name": "python",
   "nbconvert_exporter": "python",
   "pygments_lexer": "ipython3",
   "version": "3.9.13"
  }
 },
 "nbformat": 4,
 "nbformat_minor": 5
}
